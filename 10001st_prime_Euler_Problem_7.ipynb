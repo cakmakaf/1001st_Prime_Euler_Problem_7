{
 "cells": [
  {
   "cell_type": "code",
   "execution_count": 12,
   "metadata": {},
   "outputs": [
    {
     "name": "stdout",
     "output_type": "stream",
     "text": [
      "104743\n"
     ]
    }
   ],
   "source": [
    "#test if p is a prime\n",
    "def is_p_a_prime(p):\n",
    "    if p < 2: return\n",
    "    \"Not a prime\"\n",
    "    for i in range(2, int(p**0.5) + 1):\n",
    "        if p % i == 0:\n",
    "            return False\n",
    "    return True\n",
    "\n",
    "# find the n^th prime\n",
    "def n_th_Prime(p):\n",
    "    all_primes = 0\n",
    "    prime = 1\n",
    "\n",
    "    while all_primes < p:\n",
    "        prime += 1\n",
    "        if is_p_a_prime(prime):\n",
    "            all_primes += 1\n",
    "    return prime\n",
    "\n",
    "print nthPrime(10001) \n",
    "                \n",
    "            \n",
    "    \n",
    "    "
   ]
  },
  {
   "cell_type": "code",
   "execution_count": null,
   "metadata": {},
   "outputs": [],
   "source": []
  }
 ],
 "metadata": {
  "kernelspec": {
   "display_name": "Python 2",
   "language": "python",
   "name": "python2"
  },
  "language_info": {
   "codemirror_mode": {
    "name": "ipython",
    "version": 2
   },
   "file_extension": ".py",
   "mimetype": "text/x-python",
   "name": "python",
   "nbconvert_exporter": "python",
   "pygments_lexer": "ipython2",
   "version": "2.7.14"
  }
 },
 "nbformat": 4,
 "nbformat_minor": 2
}
